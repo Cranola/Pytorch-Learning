{
 "cells": [
  {
   "cell_type": "code",
   "execution_count": 1,
   "metadata": {},
   "outputs": [
    {
     "name": "stdout",
     "output_type": "stream",
     "text": [
      "1.4.0\n"
     ]
    }
   ],
   "source": [
    "import torch\n",
    "import numpy as np\n",
    "print(torch.__version__)"
   ]
  },
  {
   "cell_type": "markdown",
   "metadata": {},
   "source": [
    "### Tensor"
   ]
  },
  {
   "cell_type": "code",
   "execution_count": 2,
   "metadata": {},
   "outputs": [
    {
     "data": {
      "text/plain": [
       "tensor([[0.9119, 0.4710, 0.1926],\n",
       "        [0.8843, 0.3241, 0.2018]])"
      ]
     },
     "execution_count": 2,
     "metadata": {},
     "output_type": "execute_result"
    }
   ],
   "source": [
    "x = torch.rand(2,3) # 均匀分布中从[0,1]随机抽取\n",
    "x"
   ]
  },
  {
   "cell_type": "code",
   "execution_count": 3,
   "metadata": {},
   "outputs": [
    {
     "name": "stdout",
     "output_type": "stream",
     "text": [
      "torch.Size([2, 3])\n",
      "torch.Size([2, 3])\n"
     ]
    }
   ],
   "source": [
    "print(x.shape)\n",
    "print(x.size())"
   ]
  },
  {
   "cell_type": "code",
   "execution_count": 12,
   "metadata": {},
   "outputs": [
    {
     "name": "stdout",
     "output_type": "stream",
     "text": [
      "tensor([0.5000, 0.7000])\n",
      "torch.Size([2])\n",
      "tensor([0.8544, 0.8433])\n",
      "torch.Size([2])\n"
     ]
    }
   ],
   "source": [
    "z = torch.tensor([0.5, 0.7])\n",
    "y = torch.rand(2)\n",
    "print(z)\n",
    "print(z.shape)\n",
    "print(y)\n",
    "print(y.shape)"
   ]
  },
  {
   "cell_type": "code",
   "execution_count": 13,
   "metadata": {},
   "outputs": [
    {
     "name": "stdout",
     "output_type": "stream",
     "text": [
      "tensor(0.5000)\n",
      "0.5\n",
      "torch.Size([])\n"
     ]
    }
   ],
   "source": [
    "scalar = torch.tensor(0.5)\n",
    "print(scalar)\n",
    "print(scalar.item())\n",
    "print(scalar.shape)"
   ]
  },
  {
   "cell_type": "code",
   "execution_count": 18,
   "metadata": {},
   "outputs": [
    {
     "name": "stdout",
     "output_type": "stream",
     "text": [
      "float类型:\n",
      "tensor(0.5000, dtype=torch.float16)\n",
      "tensor(0.5000)\n",
      "tensor(0.5000, dtype=torch.float64)\n",
      "\n",
      "int类型:\n",
      "tensor(0, dtype=torch.int8)\n",
      "tensor(0, dtype=torch.uint8)\n",
      "tensor(0, dtype=torch.int16)\n",
      "tensor(0, dtype=torch.int32)\n",
      "tensor(0)\n"
     ]
    }
   ],
   "source": [
    "print(\"float类型:\")\n",
    "test_half = scalar.half()\n",
    "test_float = scalar.float()\n",
    "test_double = scalar.double()\n",
    "print(test_half)\n",
    "print(test_float)\n",
    "print(test_double)\n",
    "\n",
    "print(\"\\nint类型:\")\n",
    "test_char = scalar.char()\n",
    "test_byte = scalar.byte()\n",
    "test_short = scalar.short()\n",
    "test_int = scalar.int()\n",
    "test_long = scalar.long()\n",
    "print(test_char)\n",
    "print(test_byte)\n",
    "print(test_short)\n",
    "print(test_int)\n",
    "print(test_long)"
   ]
  },
  {
   "cell_type": "markdown",
   "metadata": {},
   "source": [
    "### Tensor <=> ndarray(Numpy)"
   ]
  },
  {
   "cell_type": "code",
   "execution_count": 20,
   "metadata": {},
   "outputs": [
    {
     "name": "stdout",
     "output_type": "stream",
     "text": [
      "[[-0.73605144 -0.44794384 -0.4850102 ]\n",
      " [ 1.3601235  -0.17342414 -0.50238407]]\n"
     ]
    }
   ],
   "source": [
    "tensor_1 = torch.randn((2,3))  # 标准正态分布随机抽取，均值为0，方差为1\n",
    "tensor_1_numpy = tensor_1.numpy()\n",
    "print(tensor_1_numpy)"
   ]
  },
  {
   "cell_type": "code",
   "execution_count": 25,
   "metadata": {},
   "outputs": [
    {
     "name": "stdout",
     "output_type": "stream",
     "text": [
      "tensor([1, 2, 3])\n"
     ]
    }
   ],
   "source": [
    "numpy_1 = np.array([1,2,3])\n",
    "tensor_2 = torch.from_numpy(numpy_1)\n",
    "print(tensor_2)"
   ]
  },
  {
   "cell_type": "markdown",
   "metadata": {},
   "source": [
    "### 设备间转换"
   ]
  },
  {
   "cell_type": "code",
   "execution_count": 26,
   "metadata": {},
   "outputs": [
    {
     "data": {
      "text/plain": [
       "'torch.FloatTensor'"
      ]
     },
     "execution_count": 26,
     "metadata": {},
     "output_type": "execute_result"
    }
   ],
   "source": [
    "cpu_a = torch.rand(2,3)\n",
    "cpu_a.type()"
   ]
  },
  {
   "cell_type": "code",
   "execution_count": 28,
   "metadata": {},
   "outputs": [],
   "source": [
    "# gpu_a = cpu_a.cuda()\n",
    "# gpu_a.type()"
   ]
  },
  {
   "cell_type": "code",
   "execution_count": 29,
   "metadata": {},
   "outputs": [],
   "source": [
    "# cpu_b = gpu_a.cpu()\n",
    "# cpu_b.type()"
   ]
  },
  {
   "cell_type": "code",
   "execution_count": 32,
   "metadata": {},
   "outputs": [
    {
     "name": "stdout",
     "output_type": "stream",
     "text": [
      "cpu\n",
      "torch.FloatTensor\n"
     ]
    }
   ],
   "source": [
    "device = torch.device('cuda' if torch.cuda.is_available() else 'cpu')\n",
    "print(device)\n",
    "tensor_device = cpu_a.to(device)\n",
    "print(tensor_device.type())"
   ]
  },
  {
   "cell_type": "markdown",
   "metadata": {},
   "source": [
    "### 常用方法"
   ]
  },
  {
   "cell_type": "code",
   "execution_count": 37,
   "metadata": {},
   "outputs": [
    {
     "data": {
      "text/plain": [
       "tensor([[1., 0., 0.],\n",
       "        [0., 1., 0.],\n",
       "        [0., 0., 1.]])"
      ]
     },
     "execution_count": 37,
     "metadata": {},
     "output_type": "execute_result"
    }
   ],
   "source": [
    "# 初始化\n",
    "tensor_ones = torch.ones((3,3))\n",
    "tensor_zeros = torch.zeros((3,3))\n",
    "tensor_randn = torch.randn((3,3))\n",
    "tensor_eye = torch.eye(3)\n",
    "tensor_eye"
   ]
  },
  {
   "cell_type": "code",
   "execution_count": 40,
   "metadata": {},
   "outputs": [
    {
     "name": "stdout",
     "output_type": "stream",
     "text": [
      "tensor([[-1.5716, -0.0637,  1.0178],\n",
      "        [ 1.9220,  0.1563,  1.9815],\n",
      "        [-0.6233, -0.9562,  0.1019]])\n",
      "tensor([1.0178, 1.9815, 0.1019]) tensor([2, 2, 2])\n"
     ]
    }
   ],
   "source": [
    "# 维度操作\n",
    "print(tensor_randn)\n",
    "tensor_max_values, tensor_max_index = torch.max(tensor_randn, dim=1)  # 返回两个参数\n",
    "print(tensor_max_values, tensor_max_index)"
   ]
  },
  {
   "cell_type": "code",
   "execution_count": 41,
   "metadata": {},
   "outputs": [
    {
     "data": {
      "text/plain": [
       "tensor([-0.6175,  4.0598, -1.4776])"
      ]
     },
     "execution_count": 41,
     "metadata": {},
     "output_type": "execute_result"
    }
   ],
   "source": [
    "tensor_sum = torch.sum(tensor_randn, dim=1)\n",
    "tensor_sum"
   ]
  },
  {
   "cell_type": "code",
   "execution_count": 42,
   "metadata": {},
   "outputs": [
    {
     "data": {
      "text/plain": [
       "tensor([[-0.5716,  0.9363,  2.0178],\n",
       "        [ 2.9220,  1.1563,  2.9815],\n",
       "        [ 0.3767,  0.0438,  1.1019]])"
      ]
     },
     "execution_count": 42,
     "metadata": {},
     "output_type": "execute_result"
    }
   ],
   "source": [
    "tensor_add = tensor_randn + tensor_ones\n",
    "tensor_add"
   ]
  },
  {
   "cell_type": "code",
   "execution_count": 44,
   "metadata": {},
   "outputs": [
    {
     "data": {
      "text/plain": [
       "tensor([[0.4284, 1.9363, 3.0178],\n",
       "        [3.9220, 2.1563, 3.9815],\n",
       "        [1.3767, 1.0438, 2.1019]])"
      ]
     },
     "execution_count": 44,
     "metadata": {},
     "output_type": "execute_result"
    }
   ],
   "source": [
    "tensor_add.add_(tensor_ones)  # 以_结尾的均会改变调用值\n",
    "tensor_add"
   ]
  },
  {
   "cell_type": "code",
   "execution_count": null,
   "metadata": {},
   "outputs": [],
   "source": []
  }
 ],
 "metadata": {
  "kernelspec": {
   "display_name": "Python 3",
   "language": "python",
   "name": "python3"
  },
  "language_info": {
   "codemirror_mode": {
    "name": "ipython",
    "version": 3
   },
   "file_extension": ".py",
   "mimetype": "text/x-python",
   "name": "python",
   "nbconvert_exporter": "python",
   "pygments_lexer": "ipython3",
   "version": "3.7.4"
  }
 },
 "nbformat": 4,
 "nbformat_minor": 2
}
